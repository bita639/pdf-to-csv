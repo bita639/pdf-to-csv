{
 "metadata": {
  "language_info": {
   "codemirror_mode": {
    "name": "ipython",
    "version": 3
   },
   "file_extension": ".py",
   "mimetype": "text/x-python",
   "name": "python",
   "nbconvert_exporter": "python",
   "pygments_lexer": "ipython3",
   "version": "3.8.3"
  },
  "orig_nbformat": 2,
  "kernelspec": {
   "name": "python383jvsc74a57bd06f49949b19168490be2c9a118d68614df994b6876296f51327c17f57ecabe426",
   "display_name": "Python 3.8.3 32-bit"
  },
  "metadata": {
   "interpreter": {
    "hash": "6f49949b19168490be2c9a118d68614df994b6876296f51327c17f57ecabe426"
   }
  }
 },
 "nbformat": 4,
 "nbformat_minor": 2,
 "cells": [
  {
   "cell_type": "code",
   "execution_count": 2,
   "metadata": {},
   "outputs": [],
   "source": [
    "import re\n",
    "import parse\n",
    "import pdfplumber\n",
    "import pandas as pd\n",
    "from collections import namedtuple"
   ]
  },
  {
   "cell_type": "code",
   "execution_count": 213,
   "metadata": {},
   "outputs": [
    {
     "output_type": "stream",
     "name": "stdout",
     "text": [
      "[<re.Match object; span=(0, 20), match='Mobile : 01766755766'>, <re.Match object; span=(0, 31), match='Mobile :01819199419 01711201907'>]\n['\\nMD ZAHID HASAN']\n['email:jahidhasan0808@gmail.com', ':ukd@iubat.edu', 'asaha@iubat.edu']\n"
     ]
    }
   ],
   "source": [
    "# address_regex = re.search(r'Address:(.*?)Home')\n",
    "\n",
    "name_regex = re.compile(r'\\n[A-Z]+(?:\\s+[A-Z]+)*\\b')\n",
    "\n",
    "#Explanation https://stackoverflow.com/questions/60738190/regular-expression-to-find-a-series-of-uppercase-words-in-a-string\n",
    "\n",
    "phoneNumber_regex = re.compile(r'^Mobile :[\\s\\d{11}]+$')\n",
    "\n",
    "email_regex = re.compile(r'''(\n",
    "\t[._%+-a-zA-z0-9]+\n",
    "\t@\n",
    "\t[a-zA-z0-9.-]+\n",
    "\t\\.[a-zA-Z]{2,4}\n",
    "\t)''', re.VERBOSE)\n",
    "\n",
    "file = 'Md_Zahid_Hasan.pdf'\n",
    "\n",
    "\n",
    "lines = []\n",
    "phone_list = []\n",
    "name_list = []\n",
    "email_list = []\n",
    "\n",
    "total_check = 0\n",
    "\n",
    "with pdfplumber.open(file) as pdf:\n",
    "    pages = pdf.pages\n",
    "    for page in pdf.pages:\n",
    "        text = page.extract_text()\n",
    "\n",
    "        # matches = re.findall(r'\\n[A-Z]+(?:\\s+[A-Z]+)*\\b', text)\n",
    "\n",
    "        name = name_regex.findall(text)\n",
    "        if name != None :\n",
    "            name_list.append(name)\n",
    "        \n",
    "        for line in text.split('\\n'):\n",
    "\n",
    "            phone = phoneNumber_regex.search(line)\n",
    "            if phone != None :\n",
    "                phone_list.append(phone)\n",
    "\n",
    "            for email in email_regex.findall(line):\n",
    "                if email != None :\n",
    "                    email_list.append(email)\n",
    "\n",
    "\n",
    "print(phone_list)\n",
    "print(name_list[0])\n",
    "print(email_list)"
   ]
  },
  {
   "cell_type": "code",
   "execution_count": 4,
   "metadata": {},
   "outputs": [
    {
     "output_type": "stream",
     "name": "stdout",
     "text": [
      "None\n"
     ]
    }
   ],
   "source": [
    "name_regex = re.compile(r'\\b[A-Z]+(?:\\s+[A-Z]+)*\\b')\n",
    "text = '''\n",
    "cat\n",
    "dog\n",
    "\n",
    "\n",
    "Source: Bdjobs.com Online CV Bank\n",
    "Job Title: Executive - Digital Advertising Operations\n",
    "Last Updated : 12 Dec 2020\n",
    "MD SHAHALAM\n",
    "Address: I/19 , Kazi Nazrul Islam Rood, Mohammadpur Housing, Mohammadpur, Dhaka 1207\n",
    "Home Phone: 01687824970\n",
    "Mobile : 0174005949\n",
    "email:shahrier375@gmail.com, shahrieralam45@gmail.com'''\n",
    "x = re.findall(\"^MD\", text)\n",
    "name = name_regex.findall(text)\n",
    "y= re.match(r'cat\\ndog',text,re.M)\n",
    "print(y)"
   ]
  },
  {
   "cell_type": "code",
   "execution_count": 53,
   "metadata": {},
   "outputs": [
    {
     "output_type": "stream",
     "name": "stdout",
     "text": [
      "<re.Match object; span=(2, 8), match='<HTML>'>\n"
     ]
    }
   ],
   "source": [
    "import re\n",
    "pattern = re.compile(r'<HTML>')\n",
    "# x = pattern.match(\"⇢ ⇢ <HTML>\")\n",
    "y = pattern.match(\"⇢⇢<HTML>\", 2)\n",
    "print(y)\n",
    "\n",
    "#re.match(r'<HTML>', \"<HTML>\")\n",
    "# pattern = re.compile(\"\\\\\\\\\")\n",
    "# pattern.findall(\"\\\\author\")\n"
   ]
  },
  {
   "cell_type": "code",
   "execution_count": 205,
   "metadata": {},
   "outputs": [
    {
     "output_type": "stream",
     "name": "stdout",
     "text": [
      "\nMD SHAHALAM\n"
     ]
    }
   ],
   "source": [
    "import re\n",
    "\n",
    "text = '''\n",
    "Last Updated : 12 Dec 2020\n",
    "MD SHAHALAM\n",
    "Address: I/19 , Kazi Nazrul Islam Rood, Mohammadpur Housing, Mohammadpur, Dhaka 1207\n",
    "DFGHJK\n",
    "FGHJK\n",
    "'''\n",
    "# We want to extract \"A quick brown fox.\\nIt jumps over the lazy dog\"\n",
    "matches = re.search(r'\\n[A-Z]+(?:\\s+[A-Z]+)*\\b', text)\n",
    "print(matches[0])"
   ]
  },
  {
   "cell_type": "code",
   "execution_count": null,
   "metadata": {},
   "outputs": [],
   "source": []
  }
 ]
}