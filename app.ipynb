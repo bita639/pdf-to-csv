{
 "metadata": {
  "language_info": {
   "codemirror_mode": {
    "name": "ipython",
    "version": 3
   },
   "file_extension": ".py",
   "mimetype": "text/x-python",
   "name": "python",
   "nbconvert_exporter": "python",
   "pygments_lexer": "ipython3",
   "version": "3.8.3"
  },
  "orig_nbformat": 2,
  "kernelspec": {
   "name": "python383jvsc74a57bd06f49949b19168490be2c9a118d68614df994b6876296f51327c17f57ecabe426",
   "display_name": "Python 3.8.3 32-bit"
  },
  "metadata": {
   "interpreter": {
    "hash": "6f49949b19168490be2c9a118d68614df994b6876296f51327c17f57ecabe426"
   }
  }
 },
 "nbformat": 4,
 "nbformat_minor": 2,
 "cells": [
  {
   "cell_type": "code",
   "execution_count": null,
   "metadata": {},
   "outputs": [],
   "source": [
    "import re\n",
    "import parse\n",
    "import pdfplumber\n",
    "import pandas as pd\n",
    "from collections import namedtuple"
   ]
  },
  {
   "cell_type": "code",
   "execution_count": null,
   "metadata": {},
   "outputs": [],
   "source": [
    "Line = namedtuple('Line', 'company_id company_name doctype reference currency voucher inv_date due_date open_amt_tc open_amt_bc current months1 months2 months3')"
   ]
  },
  {
   "cell_type": "code",
   "execution_count": null,
   "metadata": {},
   "outputs": [],
   "source": [
    "company_re = re.compile(r'(V\\d+) (.*) Phone:')\n",
    "line_re = re.compile(r'\\d{2}/\\d{2}/\\d{4} \\d{2}/\\d{2}/\\d{4}')"
   ]
  },
  {
   "cell_type": "code",
   "execution_count": null,
   "metadata": {
    "tags": [
     "outputPrepend"
    ]
   },
   "outputs": [],
   "source": [
    "file = 'Sample Report Pythonic.pdf'\n",
    "\n",
    "lines = []\n",
    "total_check = 0\n",
    "with pdfplumber.open(file) as pdf:\n",
    "    pages = pdf.pages\n",
    "    for page in pdf.pages:\n",
    "        text = page.extract_text()\n",
    "        for line in text.split('\\n'):\n",
    "            print(line)\n",
    "            comp = company_re.search(line)\n",
    "            if comp:\n",
    "                vend_no, vend_name = comp.group(1), comp.group(2)\n",
    "\n",
    "            elif line.startswith('INVOICES'):\n",
    "                doctype = 'INVOICE'\n",
    "\n",
    "            elif line.startswith('CREDITNOTES'):\n",
    "                doctype = 'CREDITNOTE'\n",
    "\n",
    "            elif line_re.search(line):\n",
    "                items = line.split()\n",
    "                lines.append(Line(vend_no, vend_name, doctype, *items))\n",
    "                \n",
    "            elif line.startswith('Supplier total'):\n",
    "                tot = float(line.split()[2].replace(',', ''))\n",
    "                total_check += tot\n",
    "          \n",
    "\n",
    "# for company in company_re.findall(text):\n",
    "# \tlines.append(company)\n",
    "# print(lines)"
   ]
  },
  {
   "cell_type": "code",
   "execution_count": null,
   "metadata": {},
   "outputs": [],
   "source": [
    "df = pd.DataFrame(lines)\n",
    "df.head()"
   ]
  },
  {
   "cell_type": "code",
   "execution_count": null,
   "metadata": {},
   "outputs": [],
   "source": [
    "df.info()"
   ]
  },
  {
   "cell_type": "code",
   "execution_count": null,
   "metadata": {},
   "outputs": [],
   "source": [
    "df['inv_date'] = pd.to_datetime(df['inv_date'])\n",
    "df['due_date'] = pd.to_datetime(df['due_date'])"
   ]
  },
  {
   "cell_type": "code",
   "execution_count": null,
   "metadata": {},
   "outputs": [],
   "source": [
    "for col in df.columns[-6:]:\n",
    "    df[col] = df[col].map(lambda x: float(str(x).replace(',', '')))"
   ]
  },
  {
   "cell_type": "code",
   "execution_count": null,
   "metadata": {},
   "outputs": [],
   "source": [
    "df['open_amt_bc'].sum()"
   ]
  },
  {
   "cell_type": "code",
   "execution_count": null,
   "metadata": {},
   "outputs": [],
   "source": [
    "total_check"
   ]
  },
  {
   "cell_type": "code",
   "execution_count": null,
   "metadata": {},
   "outputs": [],
   "source": [
    "df.to_csv('invoices.csv', index=False)"
   ]
  },
  {
   "cell_type": "code",
   "execution_count": null,
   "metadata": {},
   "outputs": [],
   "source": [
    "company_re = re.compile('\\S+@\\S+' ) # \\d+ will match a group on [0-9], group of one or greater size and V used to find the line start with V and  (.) Matches any character except newline and (*) used for Any number of occurrences (including 0 occurrences)\n",
    "line_re = re.compile(r'\\d{2}/\\d{2}/\\d{4} \\d{2}/\\d{2}/\\d{4}')\n",
    "# company_re.search('''V500125678 Company LTD Phone:23456789\n",
    "#                     N500125678 A Company LTD Phone:23456789''')\n",
    "\n",
    "company_re.findall('''MD SHAHALAM \n",
    "                    Address: I/19 , Kazi Nazrul Islam Rood, Mohammadpur Housing, Mohammadpur, Dhaka1207 \n",
    "                    Home Phone: 01687824970 \n",
    "                    Mobile : 0174005949 \n",
    "                    email:shahrier375@gmail.com, shahrieralam45@gmail.com''')"
   ]
  },
  {
   "cell_type": "code",
   "execution_count": null,
   "metadata": {},
   "outputs": [],
   "source": []
  },
  {
   "cell_type": "code",
   "execution_count": null,
   "metadata": {},
   "outputs": [],
   "source": [
    "# Find All Email From bunch of text\n",
    "# re.compile('\\S+@\\S+')\n",
    "# https://www.geeksforgeeks.org/extracting-email-addresses-using-regular-expressions-python/"
   ]
  },
  {
   "cell_type": "code",
   "execution_count": null,
   "metadata": {},
   "outputs": [],
   "source": [
    "# Find all Capital Letter\n"
   ]
  },
  {
   "cell_type": "code",
   "execution_count": 281,
   "metadata": {},
   "outputs": [
    {
     "output_type": "error",
     "ename": "TypeError",
     "evalue": "expected string or bytes-like object",
     "traceback": [
      "\u001b[1;31m---------------------------------------------------------------------------\u001b[0m",
      "\u001b[1;31mTypeError\u001b[0m                                 Traceback (most recent call last)",
      "\u001b[1;32m<ipython-input-281-ef73fd1bda87>\u001b[0m in \u001b[0;36m<module>\u001b[1;34m\u001b[0m\n\u001b[0;32m     37\u001b[0m \u001b[0memail_list\u001b[0m \u001b[1;33m=\u001b[0m \u001b[1;33m[\u001b[0m\u001b[1;33m]\u001b[0m\u001b[1;33m\u001b[0m\u001b[1;33m\u001b[0m\u001b[0m\n\u001b[0;32m     38\u001b[0m \u001b[1;33m\u001b[0m\u001b[0m\n\u001b[1;32m---> 39\u001b[1;33m \u001b[1;32mfor\u001b[0m \u001b[0mnumbers\u001b[0m \u001b[1;32min\u001b[0m \u001b[0mphoneNumber_regex\u001b[0m\u001b[1;33m.\u001b[0m\u001b[0mfindall\u001b[0m\u001b[1;33m(\u001b[0m\u001b[0mlines\u001b[0m\u001b[1;33m)\u001b[0m\u001b[1;33m:\u001b[0m\u001b[1;33m\u001b[0m\u001b[1;33m\u001b[0m\u001b[0m\n\u001b[0m\u001b[0;32m     40\u001b[0m         \u001b[0mphone_list\u001b[0m\u001b[1;33m.\u001b[0m\u001b[0mappend\u001b[0m\u001b[1;33m(\u001b[0m\u001b[0mnumbers\u001b[0m\u001b[1;33m)\u001b[0m\u001b[1;33m\u001b[0m\u001b[1;33m\u001b[0m\u001b[0m\n\u001b[0;32m     41\u001b[0m \u001b[1;33m\u001b[0m\u001b[0m\n",
      "\u001b[1;31mTypeError\u001b[0m: expected string or bytes-like object"
     ]
    }
   ],
   "source": [
    "file = 'Md_Shahalam.pdf'\n",
    "\n",
    "lines = []\n",
    "total_check = 0\n",
    "with pdfplumber.open(file) as pdf:\n",
    "    pages = pdf.pages\n",
    "    for page in pdf.pages:\n",
    "        text = page.extract_text()\n",
    "        for line in text.split('\\n'):\n",
    "            print(line)\n",
    "            \n",
    "# print(lines)\n",
    "\n",
    "# text = '''\n",
    "# MD SHAHALAM\n",
    "# Address: I/19 , Kazi Nazrul Islam Rood, Mohammadpur Housing, Mohammadpur, Dhaka1207\n",
    "# Home Phone: 01687824970, 01740059459\n",
    "# Mobile : 0174005949\n",
    "# email:shahrier375@gmail.com, shahrieralam45@gmail.com'''\n",
    "\n",
    "# address_regex = re.search(r'Address:(.*?)Home').group(1)\n",
    "# name_regex = re.compile(r'\\b[A-Z]+(?:\\s+[A-Z]+)*\\b')\n",
    "#Explanation https://stackoverflow.com/questions/60738190/regular-expression-to-find-a-series-of-uppercase-words-in-a-string\n",
    "# phoneNumber_regex = re.compile(r\"(?<!\\d)\\d{11}(?!\\d)\")\n",
    "# email_regex = re.compile(r'''(\n",
    "# \t[._%+-a-zA-z0-9]+\n",
    "# \t@\n",
    "# \t[a-zA-z0-9.-]+\n",
    "# \t\\.[a-zA-Z]{2,4}\n",
    "# \t)''', re.VERBOSE)\n",
    "\n",
    "\n",
    "# address_list = []\n",
    "# address_list.append(address_regex)\n",
    "# name_list = []\n",
    "# phone_list = []\n",
    "# email_list = []\n",
    "\n",
    "# for numbers in phoneNumber_regex.findall(lines):\n",
    "# \tphone_list.append(numbers)\n",
    "\n",
    "# for email in email_regex.findall(lines):\n",
    "# \temail_list.append(email)\n",
    "\n",
    "# for name in name_regex.findall(lines):\n",
    "# \tname_list.append(name)\n",
    "\n",
    "#DOB, higest education , total work experience\n",
    "# print(email_list)\n",
    "# print(phone_list)\n",
    "# print(name_list)\n",
    "# print(address_list)\n"
   ]
  },
  {
   "cell_type": "code",
   "execution_count": null,
   "metadata": {},
   "outputs": [],
   "source": [
    "x=\"cool\"\n",
    "print(x[-1] +x[-2]+x[-4]+x[-3])"
   ]
  },
  {
   "cell_type": "code",
   "execution_count": null,
   "metadata": {},
   "outputs": [],
   "source": [
    "import re\n",
    "s = '''\n",
    "MD SHAHALAM \n",
    "Address: I/19 , Kazi Nazrul Islam Rood, Mohammadpur Housing, Mohammadpur, Dhaka1207 Home Phone: 01687824970, 01740059459 Mobile : 0174005949 email:shahrier375@gmail.com, shahrieralam45@gmail.com'''\n",
    "re.search(r'Address:(.*?)Home', s).group(1)\n",
    "#explanation https://stackoverflow.com/questions/32680030/match-text-between-two-strings-with-regular-expression"
   ]
  },
  {
   "cell_type": "code",
   "execution_count": null,
   "metadata": {},
   "outputs": [],
   "source": [
    "\n"
   ]
  },
  {
   "cell_type": "code",
   "execution_count": null,
   "metadata": {},
   "outputs": [],
   "source": []
  }
 ]
}