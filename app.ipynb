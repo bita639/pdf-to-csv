{
 "metadata": {
  "language_info": {
   "codemirror_mode": {
    "name": "ipython",
    "version": 3
   },
   "file_extension": ".py",
   "mimetype": "text/x-python",
   "name": "python",
   "nbconvert_exporter": "python",
   "pygments_lexer": "ipython3",
   "version": "3.8.3"
  },
  "orig_nbformat": 2,
  "kernelspec": {
   "name": "python383jvsc74a57bd06f49949b19168490be2c9a118d68614df994b6876296f51327c17f57ecabe426",
   "display_name": "Python 3.8.3 32-bit"
  },
  "metadata": {
   "interpreter": {
    "hash": "6f49949b19168490be2c9a118d68614df994b6876296f51327c17f57ecabe426"
   }
  }
 },
 "nbformat": 4,
 "nbformat_minor": 2,
 "cells": [
  {
   "cell_type": "code",
   "execution_count": 2,
   "metadata": {},
   "outputs": [
    {
     "output_type": "error",
     "ename": "ModuleNotFoundError",
     "evalue": "No module named 'pdfplumber'",
     "traceback": [
      "\u001b[1;31m---------------------------------------------------------------------------\u001b[0m",
      "\u001b[1;31mModuleNotFoundError\u001b[0m                       Traceback (most recent call last)",
      "\u001b[1;32m<ipython-input-2-7662f0db1353>\u001b[0m in \u001b[0;36m<module>\u001b[1;34m\u001b[0m\n\u001b[0;32m      1\u001b[0m \u001b[1;32mimport\u001b[0m \u001b[0mre\u001b[0m\u001b[1;33m\u001b[0m\u001b[1;33m\u001b[0m\u001b[0m\n\u001b[0;32m      2\u001b[0m \u001b[1;32mimport\u001b[0m \u001b[0mparse\u001b[0m\u001b[1;33m\u001b[0m\u001b[1;33m\u001b[0m\u001b[0m\n\u001b[1;32m----> 3\u001b[1;33m \u001b[1;32mimport\u001b[0m \u001b[0mpdfplumber\u001b[0m\u001b[1;33m\u001b[0m\u001b[1;33m\u001b[0m\u001b[0m\n\u001b[0m\u001b[0;32m      4\u001b[0m \u001b[1;32mimport\u001b[0m \u001b[0mpandas\u001b[0m \u001b[1;32mas\u001b[0m \u001b[0mpd\u001b[0m\u001b[1;33m\u001b[0m\u001b[1;33m\u001b[0m\u001b[0m\n\u001b[0;32m      5\u001b[0m \u001b[1;32mfrom\u001b[0m \u001b[0mcollections\u001b[0m \u001b[1;32mimport\u001b[0m \u001b[0mnamedtuple\u001b[0m\u001b[1;33m\u001b[0m\u001b[1;33m\u001b[0m\u001b[0m\n",
      "\u001b[1;31mModuleNotFoundError\u001b[0m: No module named 'pdfplumber'"
     ]
    }
   ],
   "source": [
    "import re\n",
    "import parse\n",
    "import pdfplumber\n",
    "import pandas as pd\n",
    "from collections import namedtuple"
   ]
  },
  {
   "cell_type": "code",
   "execution_count": null,
   "metadata": {},
   "outputs": [],
   "source": [
    "Line = namedtuple('Line', 'company_id company_name doctype reference currency voucher inv_date due_date open_amt_tc open_amt_bc current months1 months2 months3')"
   ]
  },
  {
   "cell_type": "code",
   "execution_count": 66,
   "metadata": {},
   "outputs": [
    {
     "output_type": "execute_result",
     "data": {
      "text/plain": [
       "['email:shahrier375@gmail.com,', 'shahrieralam45@gmail.com']"
      ]
     },
     "metadata": {},
     "execution_count": 66
    }
   ],
   "source": [
    "company_re = re.compile('\\S+@\\S+' ) # \\d+ will match a group on [0-9], group of one or greater size and V used to find the line start with V and  (.) Matches any character except newline and (*) used for Any number of occurrences (including 0 occurrences)\n",
    "line_re = re.compile(r'\\d{2}/\\d{2}/\\d{4} \\d{2}/\\d{2}/\\d{4}')\n",
    "# company_re.search('''V500125678 Company LTD Phone:23456789\n",
    "#                     N500125678 A Company LTD Phone:23456789''')\n",
    "\n",
    "company_re.findall('''MD SHAHALAM \n",
    "                    Address: I/19 , Kazi Nazrul Islam Rood, Mohammadpur Housing, Mohammadpur, Dhaka1207 \n",
    "                    Home Phone: 01687824970 \n",
    "                    Mobile : 0174005949 \n",
    "                    email:shahrier375@gmail.com, shahrieralam45@gmail.com''')"
   ]
  },
  {
   "cell_type": "code",
   "execution_count": null,
   "metadata": {},
   "outputs": [],
   "source": []
  },
  {
   "cell_type": "code",
   "execution_count": null,
   "metadata": {},
   "outputs": [],
   "source": [
    "# Find All Email From bunch of text\n",
    "# re.compile('\\S+@\\S+')\n",
    "# https://www.geeksforgeeks.org/extracting-email-addresses-using-regular-expressions-python/"
   ]
  },
  {
   "cell_type": "code",
   "execution_count": null,
   "metadata": {},
   "outputs": [],
   "source": [
    "# Find all Capital Letter\n"
   ]
  },
  {
   "cell_type": "code",
   "execution_count": 121,
   "metadata": {},
   "outputs": [
    {
     "output_type": "error",
     "ename": "TypeError",
     "evalue": "'NoneType' object is not iterable",
     "traceback": [
      "\u001b[1;31m---------------------------------------------------------------------------\u001b[0m",
      "\u001b[1;31mTypeError\u001b[0m                                 Traceback (most recent call last)",
      "\u001b[1;32m<ipython-input-121-fbb837449c3a>\u001b[0m in \u001b[0;36m<module>\u001b[1;34m\u001b[0m\n\u001b[0;32m     35\u001b[0m         \u001b[0mname_list\u001b[0m\u001b[1;33m.\u001b[0m\u001b[0mappend\u001b[0m\u001b[1;33m(\u001b[0m\u001b[0mname\u001b[0m\u001b[1;33m)\u001b[0m\u001b[1;33m\u001b[0m\u001b[1;33m\u001b[0m\u001b[0m\n\u001b[0;32m     36\u001b[0m \u001b[1;33m\u001b[0m\u001b[0m\n\u001b[1;32m---> 37\u001b[1;33m \u001b[1;32mfor\u001b[0m \u001b[0maddress\u001b[0m \u001b[1;32min\u001b[0m \u001b[0maddress_regex\u001b[0m\u001b[1;33m.\u001b[0m\u001b[0msearch\u001b[0m\u001b[1;33m(\u001b[0m\u001b[0mtext\u001b[0m\u001b[1;33m)\u001b[0m\u001b[1;33m:\u001b[0m\u001b[1;33m\u001b[0m\u001b[1;33m\u001b[0m\u001b[0m\n\u001b[0m\u001b[0;32m     38\u001b[0m         \u001b[0maddress_list\u001b[0m\u001b[1;33m.\u001b[0m\u001b[0mappend\u001b[0m\u001b[1;33m(\u001b[0m\u001b[0maddress\u001b[0m\u001b[1;33m)\u001b[0m\u001b[1;33m\u001b[0m\u001b[1;33m\u001b[0m\u001b[0m\n\u001b[0;32m     39\u001b[0m \u001b[1;33m\u001b[0m\u001b[0m\n",
      "\u001b[1;31mTypeError\u001b[0m: 'NoneType' object is not iterable"
     ]
    }
   ],
   "source": [
    "import re\n",
    "\n",
    "\n",
    "text = '''\n",
    "MD SHAHALAM\n",
    "Address: I/19 , Kazi Nazrul Islam Rood, Mohammadpur Housing, Mohammadpur, Dhaka1207\n",
    "Home Phone: 01687824970, 01740059459\n",
    "Mobile : 0174005949\n",
    "email:shahrier375@gmail.com, shahrieralam45@gmail.com'''\n",
    "\n",
    "address_regex = re.search(r'Address:(.*?)Home')\n",
    "name_regex = re.compile(r'\\b[A-Z]+(?:\\s+[A-Z]+)*\\b')\n",
    "#Explanation https://stackoverflow.com/questions/60738190/regular-expression-to-find-a-series-of-uppercase-words-in-a-string\n",
    "phoneNumber_regex = re.compile(r\"(?<!\\d)\\d{11}(?!\\d)\")\n",
    "email_regex = re.compile(r'''(\n",
    "\t[._%+-a-zA-z0-9]+\n",
    "\t@\n",
    "\t[a-zA-z0-9.-]+\n",
    "\t\\.[a-zA-Z]{2,4}\n",
    "\t)''', re.VERBOSE)\n",
    "\n",
    "\n",
    "address_list = []\n",
    "name_list = []\n",
    "phone_list = []\n",
    "email_list = []\n",
    "\n",
    "for numbers in phoneNumber_regex.findall(text):\n",
    "\tphone_list.append(numbers)\n",
    "\n",
    "for email in email_regex.findall(text):\n",
    "\temail_list.append(email)\n",
    "\n",
    "for name in name_regex.findall(text):\n",
    "\tname_list.append(name)\n",
    "\n",
    "for address in address_regex.search(text):\n",
    "\taddress_list.append(address)\n",
    "\n",
    "print(email_list)\n",
    "print(phone_list)\n",
    "print(name_list)\n",
    "print(address_list)\n"
   ]
  },
  {
   "cell_type": "code",
   "execution_count": 120,
   "metadata": {},
   "outputs": [
    {
     "output_type": "stream",
     "name": "stdout",
     "text": [
      "loco\n"
     ]
    }
   ],
   "source": [
    "x=\"cool\"\n",
    "print(x[-1] +x[-2]+x[-4]+x[-3])"
   ]
  },
  {
   "cell_type": "code",
   "execution_count": null,
   "metadata": {},
   "outputs": [],
   "source": []
  }
 ]
}