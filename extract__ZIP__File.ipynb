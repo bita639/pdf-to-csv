{
 "metadata": {
  "language_info": {
   "codemirror_mode": {
    "name": "ipython",
    "version": 3
   },
   "file_extension": ".py",
   "mimetype": "text/x-python",
   "name": "python",
   "nbconvert_exporter": "python",
   "pygments_lexer": "ipython3",
   "version": "3.8.3"
  },
  "orig_nbformat": 2,
  "kernelspec": {
   "name": "python383jvsc74a57bd06f49949b19168490be2c9a118d68614df994b6876296f51327c17f57ecabe426",
   "display_name": "Python 3.8.3 32-bit"
  },
  "metadata": {
   "interpreter": {
    "hash": "6f49949b19168490be2c9a118d68614df994b6876296f51327c17f57ecabe426"
   }
  }
 },
 "nbformat": 4,
 "nbformat_minor": 2,
 "cells": [
  {
   "cell_type": "code",
   "execution_count": 7,
   "metadata": {},
   "outputs": [],
   "source": [
    "from zipfile import ZipFile"
   ]
  },
  {
   "cell_type": "code",
   "execution_count": null,
   "metadata": {},
   "outputs": [],
   "source": [
    "# Create a ZipFile Object and load sample.zip in it\n",
    "with ZipFile('sampleDir.zip', 'r') as zipObj:\n",
    "   # Extract all the contents of zip file in current directory\n",
    "   zipObj.extractall()"
   ]
  }
 ]
}